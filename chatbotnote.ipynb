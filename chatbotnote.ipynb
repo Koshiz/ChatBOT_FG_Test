{
 "cells": [
  {
   "cell_type": "code",
   "execution_count": 2,
   "metadata": {},
   "outputs": [],
   "source": [
    "from sentence_transformers import SentenceTransformer\n",
    "import pinecone\n",
    "import numpy as np"
   ]
  },
  {
   "cell_type": "code",
   "execution_count": 5,
   "metadata": {},
   "outputs": [],
   "source": [
    "pinecone.init(api_key=\"91e41499-ee04-4431-8ddc-d878f12a62a0\", environment=\"us-west4-gcp-free\")"
   ]
  },
  {
   "cell_type": "code",
   "execution_count": 6,
   "metadata": {},
   "outputs": [],
   "source": [
    "pinecone.create_index(\"chatbot\", dimension=384, metric=\"cosine\")"
   ]
  },
  {
   "cell_type": "code",
   "execution_count": 25,
   "metadata": {},
   "outputs": [],
   "source": [
    "pinecone.list_indexes()\n",
    "index = pinecone.Index(\"chatbot\")"
   ]
  },
  {
   "cell_type": "code",
   "execution_count": 9,
   "metadata": {},
   "outputs": [],
   "source": [
    "sentences =  [\n",
    "    \"What is Foliogrow\",\n",
    "    \"Who are the software partners\",\n",
    "    \"What is the contact address\",\n",
    "    \n",
    "    ]\n",
    "\n",
    "# answers = [\n",
    "#     \"FolioGrow is smart cannabis cultivation software that helps you make the right decisions to increase your yields and profits\",\n",
    "#     \"metrc,ridder,growlink,netexam,salesforce,IBMwatson\",\n",
    "#     \" 3002 Commerce Street Dallas, TX 75226\"\n",
    "# ]\n",
    "\n",
    "# urls = [\n",
    "#     \"https://foliogrow.com/\",\n",
    "#     \"https://foliogrow.com/metrc/\",\n",
    "#     \"https://foliogrow.com/contact/\"\n",
    "# ]"
   ]
  },
  {
   "cell_type": "code",
   "execution_count": 36,
   "metadata": {},
   "outputs": [
    {
     "name": "stdout",
     "output_type": "stream",
     "text": [
      "[[-0.01210796  0.03986302 -0.11864929 ... -0.04804447  0.09362378\n",
      "   0.03605172]\n",
      " [-0.05488758 -0.03095406 -0.01984533 ... -0.07090454  0.09768245\n",
      "   0.01130756]\n",
      " [-0.13744348 -0.00276467  0.03286193 ...  0.03753722 -0.04565042\n",
      "   0.02908565]]\n",
      "384\n"
     ]
    }
   ],
   "source": [
    "model = SentenceTransformer('./all-MiniLM-L6-v2')\n",
    "embeddings = []\n",
    "for x in sentences:\n",
    "    embedding = model.encode(x)\n",
    "    embeddings.append(embedding)\n",
    "embeddings_array = np.array(embeddings)\n",
    "print(embeddings_array)\n",
    "print(len(embeddings_array[0]))\n",
    "    \n",
    "\n",
    "\n",
    "\n"
   ]
  },
  {
   "cell_type": "code",
   "execution_count": 37,
   "metadata": {},
   "outputs": [],
   "source": [
    "embeddings_array =  embeddings_array.tolist()\n"
   ]
  },
  {
   "cell_type": "code",
   "execution_count": 38,
   "metadata": {},
   "outputs": [
    {
     "data": {
      "text/plain": [
       "{'upserted_count': 3}"
      ]
     },
     "execution_count": 38,
     "metadata": {},
     "output_type": "execute_result"
    }
   ],
   "source": [
    "index.upsert([\n",
    "    (\"A\", embeddings_array[0], {\"answer\": \"FolioGrow is smart cannabis cultivation software that helps you make the right decisions to increase your yields and profits\", \"url\": \"https://foliogrow.com/\"}),\n",
    "    (\"B\", embeddings_array[1], {\"answer\": \"metrc,ridder,growlink,netexam,salesforce,IBMwatson\", \"url\": \"https://foliogrow.com/metrc/\"}),\n",
    "    (\"C\", embeddings_array[2], {\"answer\": \"3002 Commerce Street Dallas, TX 75226\", \"url\": \"https://foliogrow.com/metrc/\"}),\n",
    "    \n",
    "])"
   ]
  },
  {
   "cell_type": "code",
   "execution_count": 40,
   "metadata": {},
   "outputs": [
    {
     "data": {
      "text/plain": [
       "{'matches': [{'id': 'C',\n",
       "              'metadata': {'answer': '3002 Commerce Street Dallas, TX 75226',\n",
       "                           'url': 'https://foliogrow.com/metrc/'},\n",
       "              'score': 1.0,\n",
       "              'values': []},\n",
       "             {'id': 'B',\n",
       "              'metadata': {'answer': 'metrc,ridder,growlink,netexam,salesforce,IBMwatson',\n",
       "                           'url': 'https://foliogrow.com/metrc/'},\n",
       "              'score': 0.117907159,\n",
       "              'values': []},\n",
       "             {'id': 'A',\n",
       "              'metadata': {'answer': 'FolioGrow is smart cannabis cultivation '\n",
       "                                     'software that helps you make the right '\n",
       "                                     'decisions to increase your yields and '\n",
       "                                     'profits',\n",
       "                           'url': 'https://foliogrow.com/'},\n",
       "              'score': 0.0476765,\n",
       "              'values': []}],\n",
       " 'namespace': ''}"
      ]
     },
     "execution_count": 40,
     "metadata": {},
     "output_type": "execute_result"
    }
   ],
   "source": [
    "index.query(\n",
    "  vector=embeddings_array[2],\n",
    "  top_k=3,\n",
    "  include_values=False,\n",
    "  include_metadata=True\n",
    ")"
   ]
  }
 ],
 "metadata": {
  "kernelspec": {
   "display_name": "Python 3",
   "language": "python",
   "name": "python3"
  },
  "language_info": {
   "codemirror_mode": {
    "name": "ipython",
    "version": 3
   },
   "file_extension": ".py",
   "mimetype": "text/x-python",
   "name": "python",
   "nbconvert_exporter": "python",
   "pygments_lexer": "ipython3",
   "version": "3.11.4"
  },
  "orig_nbformat": 4
 },
 "nbformat": 4,
 "nbformat_minor": 2
}
